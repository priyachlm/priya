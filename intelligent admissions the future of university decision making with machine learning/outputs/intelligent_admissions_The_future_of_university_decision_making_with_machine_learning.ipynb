{
  "nbformat": 4,
  "nbformat_minor": 0,
  "metadata": {
    "colab": {
      "provenance": []
    },
    "kernelspec": {
      "name": "python3",
      "display_name": "Python 3"
    },
    "language_info": {
      "name": "python"
    }
  },
  "cells": [
    {
      "cell_type": "markdown",
      "source": [
        "Importing the libraries"
      ],
      "metadata": {
        "id": "CE5Ow6umvPOv"
      }
    },
    {
      "cell_type": "code",
      "source": [
        "import numpy as np\n",
        "import pandas as pd\n",
        "import matplotlib.pyplot as plt\n",
        "import seaborn as sns\n",
        "%matplotlib inline\n"
      ],
      "metadata": {
        "id": "tcr1NYWVvZTx"
      },
      "execution_count": null,
      "outputs": []
    },
    {
      "cell_type": "markdown",
      "source": [
        "Read the Dataset"
      ],
      "metadata": {
        "id": "2Xdh4K3_wFtQ"
      }
    },
    {
      "cell_type": "code",
      "source": [
        "data = pd.read_csv('Admission_Predict.csv')\n"
      ],
      "metadata": {
        "id": "Hsg-JquIwG9R"
      },
      "execution_count": null,
      "outputs": []
    },
    {
      "cell_type": "markdown",
      "source": [
        " Data Preparation\n"
      ],
      "metadata": {
        "id": "lBb_dYX7wh0P"
      }
    },
    {
      "cell_type": "code",
      "source": [
        "data.info()"
      ],
      "metadata": {
        "colab": {
          "base_uri": "https://localhost:8080/"
        },
        "id": "AHQgtlNgwp-K",
        "outputId": "0d06effb-07f2-4352-f7fa-bc015a1b856d"
      },
      "execution_count": null,
      "outputs": [
        {
          "output_type": "stream",
          "name": "stdout",
          "text": [
            "<class 'pandas.core.frame.DataFrame'>\n",
            "RangeIndex: 400 entries, 0 to 399\n",
            "Data columns (total 9 columns):\n",
            " #   Column             Non-Null Count  Dtype  \n",
            "---  ------             --------------  -----  \n",
            " 0   Serial No.         400 non-null    int64  \n",
            " 1   GRE Score          400 non-null    int64  \n",
            " 2   TOEFL Score        400 non-null    int64  \n",
            " 3   University Rating  400 non-null    int64  \n",
            " 4   SOP                400 non-null    float64\n",
            " 5   LOR                400 non-null    float64\n",
            " 6   CGPA               400 non-null    float64\n",
            " 7   Research           400 non-null    int64  \n",
            " 8   Chance of Admit    400 non-null    float64\n",
            "dtypes: float64(4), int64(5)\n",
            "memory usage: 28.2 KB\n"
          ]
        }
      ]
    },
    {
      "cell_type": "code",
      "source": [
        "data.isnull().any()\n"
      ],
      "metadata": {
        "colab": {
          "base_uri": "https://localhost:8080/"
        },
        "id": "FUyAx3yQxToL",
        "outputId": "0537f188-7059-4776-8677-39c0af2b1c37"
      },
      "execution_count": null,
      "outputs": [
        {
          "output_type": "execute_result",
          "data": {
            "text/plain": [
              "Serial No.           False\n",
              "GRE Score            False\n",
              "TOEFL Score          False\n",
              "University Rating    False\n",
              "SOP                  False\n",
              "LOR                  False\n",
              "CGPA                 False\n",
              "Research             False\n",
              "Chance of Admit      False\n",
              "dtype: bool"
            ]
          },
          "metadata": {},
          "execution_count": 9
        }
      ]
    },
    {
      "cell_type": "markdown",
      "source": [
        "Exploratory Data Analysis\n",
        "   Univariate analysis\n",
        "   "
      ],
      "metadata": {
        "id": "mtrpDOxFzd6K"
      }
    },
    {
      "cell_type": "code",
      "source": [
        "data.describe()"
      ],
      "metadata": {
        "colab": {
          "base_uri": "https://localhost:8080/",
          "height": 300
        },
        "id": "cqkWAKrYy1S7",
        "outputId": "f7e5447f-5652-4058-92f6-7daa00300dbd"
      },
      "execution_count": null,
      "outputs": [
        {
          "output_type": "execute_result",
          "data": {
            "text/plain": [
              "       Serial No.   GRE Score  TOEFL Score  University Rating         SOP  \\\n",
              "count  400.000000  400.000000   400.000000         400.000000  400.000000   \n",
              "mean   200.500000  316.807500   107.410000           3.087500    3.400000   \n",
              "std    115.614301   11.473646     6.069514           1.143728    1.006869   \n",
              "min      1.000000  290.000000    92.000000           1.000000    1.000000   \n",
              "25%    100.750000  308.000000   103.000000           2.000000    2.500000   \n",
              "50%    200.500000  317.000000   107.000000           3.000000    3.500000   \n",
              "75%    300.250000  325.000000   112.000000           4.000000    4.000000   \n",
              "max    400.000000  340.000000   120.000000           5.000000    5.000000   \n",
              "\n",
              "             LOR         CGPA    Research  Chance of Admit   \n",
              "count  400.000000  400.000000  400.000000        400.000000  \n",
              "mean     3.452500    8.598925    0.547500          0.724350  \n",
              "std      0.898478    0.596317    0.498362          0.142609  \n",
              "min      1.000000    6.800000    0.000000          0.340000  \n",
              "25%      3.000000    8.170000    0.000000          0.640000  \n",
              "50%      3.500000    8.610000    1.000000          0.730000  \n",
              "75%      4.000000    9.062500    1.000000          0.830000  \n",
              "max      5.000000    9.920000    1.000000          0.970000  "
            ],
            "text/html": [
              "\n",
              "  <div id=\"df-6d8accfe-2817-4f12-b24a-5603a9045661\">\n",
              "    <div class=\"colab-df-container\">\n",
              "      <div>\n",
              "<style scoped>\n",
              "    .dataframe tbody tr th:only-of-type {\n",
              "        vertical-align: middle;\n",
              "    }\n",
              "\n",
              "    .dataframe tbody tr th {\n",
              "        vertical-align: top;\n",
              "    }\n",
              "\n",
              "    .dataframe thead th {\n",
              "        text-align: right;\n",
              "    }\n",
              "</style>\n",
              "<table border=\"1\" class=\"dataframe\">\n",
              "  <thead>\n",
              "    <tr style=\"text-align: right;\">\n",
              "      <th></th>\n",
              "      <th>Serial No.</th>\n",
              "      <th>GRE Score</th>\n",
              "      <th>TOEFL Score</th>\n",
              "      <th>University Rating</th>\n",
              "      <th>SOP</th>\n",
              "      <th>LOR</th>\n",
              "      <th>CGPA</th>\n",
              "      <th>Research</th>\n",
              "      <th>Chance of Admit</th>\n",
              "    </tr>\n",
              "  </thead>\n",
              "  <tbody>\n",
              "    <tr>\n",
              "      <th>count</th>\n",
              "      <td>400.000000</td>\n",
              "      <td>400.000000</td>\n",
              "      <td>400.000000</td>\n",
              "      <td>400.000000</td>\n",
              "      <td>400.000000</td>\n",
              "      <td>400.000000</td>\n",
              "      <td>400.000000</td>\n",
              "      <td>400.000000</td>\n",
              "      <td>400.000000</td>\n",
              "    </tr>\n",
              "    <tr>\n",
              "      <th>mean</th>\n",
              "      <td>200.500000</td>\n",
              "      <td>316.807500</td>\n",
              "      <td>107.410000</td>\n",
              "      <td>3.087500</td>\n",
              "      <td>3.400000</td>\n",
              "      <td>3.452500</td>\n",
              "      <td>8.598925</td>\n",
              "      <td>0.547500</td>\n",
              "      <td>0.724350</td>\n",
              "    </tr>\n",
              "    <tr>\n",
              "      <th>std</th>\n",
              "      <td>115.614301</td>\n",
              "      <td>11.473646</td>\n",
              "      <td>6.069514</td>\n",
              "      <td>1.143728</td>\n",
              "      <td>1.006869</td>\n",
              "      <td>0.898478</td>\n",
              "      <td>0.596317</td>\n",
              "      <td>0.498362</td>\n",
              "      <td>0.142609</td>\n",
              "    </tr>\n",
              "    <tr>\n",
              "      <th>min</th>\n",
              "      <td>1.000000</td>\n",
              "      <td>290.000000</td>\n",
              "      <td>92.000000</td>\n",
              "      <td>1.000000</td>\n",
              "      <td>1.000000</td>\n",
              "      <td>1.000000</td>\n",
              "      <td>6.800000</td>\n",
              "      <td>0.000000</td>\n",
              "      <td>0.340000</td>\n",
              "    </tr>\n",
              "    <tr>\n",
              "      <th>25%</th>\n",
              "      <td>100.750000</td>\n",
              "      <td>308.000000</td>\n",
              "      <td>103.000000</td>\n",
              "      <td>2.000000</td>\n",
              "      <td>2.500000</td>\n",
              "      <td>3.000000</td>\n",
              "      <td>8.170000</td>\n",
              "      <td>0.000000</td>\n",
              "      <td>0.640000</td>\n",
              "    </tr>\n",
              "    <tr>\n",
              "      <th>50%</th>\n",
              "      <td>200.500000</td>\n",
              "      <td>317.000000</td>\n",
              "      <td>107.000000</td>\n",
              "      <td>3.000000</td>\n",
              "      <td>3.500000</td>\n",
              "      <td>3.500000</td>\n",
              "      <td>8.610000</td>\n",
              "      <td>1.000000</td>\n",
              "      <td>0.730000</td>\n",
              "    </tr>\n",
              "    <tr>\n",
              "      <th>75%</th>\n",
              "      <td>300.250000</td>\n",
              "      <td>325.000000</td>\n",
              "      <td>112.000000</td>\n",
              "      <td>4.000000</td>\n",
              "      <td>4.000000</td>\n",
              "      <td>4.000000</td>\n",
              "      <td>9.062500</td>\n",
              "      <td>1.000000</td>\n",
              "      <td>0.830000</td>\n",
              "    </tr>\n",
              "    <tr>\n",
              "      <th>max</th>\n",
              "      <td>400.000000</td>\n",
              "      <td>340.000000</td>\n",
              "      <td>120.000000</td>\n",
              "      <td>5.000000</td>\n",
              "      <td>5.000000</td>\n",
              "      <td>5.000000</td>\n",
              "      <td>9.920000</td>\n",
              "      <td>1.000000</td>\n",
              "      <td>0.970000</td>\n",
              "    </tr>\n",
              "  </tbody>\n",
              "</table>\n",
              "</div>\n",
              "      <button class=\"colab-df-convert\" onclick=\"convertToInteractive('df-6d8accfe-2817-4f12-b24a-5603a9045661')\"\n",
              "              title=\"Convert this dataframe to an interactive table.\"\n",
              "              style=\"display:none;\">\n",
              "        \n",
              "  <svg xmlns=\"http://www.w3.org/2000/svg\" height=\"24px\"viewBox=\"0 0 24 24\"\n",
              "       width=\"24px\">\n",
              "    <path d=\"M0 0h24v24H0V0z\" fill=\"none\"/>\n",
              "    <path d=\"M18.56 5.44l.94 2.06.94-2.06 2.06-.94-2.06-.94-.94-2.06-.94 2.06-2.06.94zm-11 1L8.5 8.5l.94-2.06 2.06-.94-2.06-.94L8.5 2.5l-.94 2.06-2.06.94zm10 10l.94 2.06.94-2.06 2.06-.94-2.06-.94-.94-2.06-.94 2.06-2.06.94z\"/><path d=\"M17.41 7.96l-1.37-1.37c-.4-.4-.92-.59-1.43-.59-.52 0-1.04.2-1.43.59L10.3 9.45l-7.72 7.72c-.78.78-.78 2.05 0 2.83L4 21.41c.39.39.9.59 1.41.59.51 0 1.02-.2 1.41-.59l7.78-7.78 2.81-2.81c.8-.78.8-2.07 0-2.86zM5.41 20L4 18.59l7.72-7.72 1.47 1.35L5.41 20z\"/>\n",
              "  </svg>\n",
              "      </button>\n",
              "      \n",
              "  <style>\n",
              "    .colab-df-container {\n",
              "      display:flex;\n",
              "      flex-wrap:wrap;\n",
              "      gap: 12px;\n",
              "    }\n",
              "\n",
              "    .colab-df-convert {\n",
              "      background-color: #E8F0FE;\n",
              "      border: none;\n",
              "      border-radius: 50%;\n",
              "      cursor: pointer;\n",
              "      display: none;\n",
              "      fill: #1967D2;\n",
              "      height: 32px;\n",
              "      padding: 0 0 0 0;\n",
              "      width: 32px;\n",
              "    }\n",
              "\n",
              "    .colab-df-convert:hover {\n",
              "      background-color: #E2EBFA;\n",
              "      box-shadow: 0px 1px 2px rgba(60, 64, 67, 0.3), 0px 1px 3px 1px rgba(60, 64, 67, 0.15);\n",
              "      fill: #174EA6;\n",
              "    }\n",
              "\n",
              "    [theme=dark] .colab-df-convert {\n",
              "      background-color: #3B4455;\n",
              "      fill: #D2E3FC;\n",
              "    }\n",
              "\n",
              "    [theme=dark] .colab-df-convert:hover {\n",
              "      background-color: #434B5C;\n",
              "      box-shadow: 0px 1px 3px 1px rgba(0, 0, 0, 0.15);\n",
              "      filter: drop-shadow(0px 1px 2px rgba(0, 0, 0, 0.3));\n",
              "      fill: #FFFFFF;\n",
              "    }\n",
              "  </style>\n",
              "\n",
              "      <script>\n",
              "        const buttonEl =\n",
              "          document.querySelector('#df-6d8accfe-2817-4f12-b24a-5603a9045661 button.colab-df-convert');\n",
              "        buttonEl.style.display =\n",
              "          google.colab.kernel.accessAllowed ? 'block' : 'none';\n",
              "\n",
              "        async function convertToInteractive(key) {\n",
              "          const element = document.querySelector('#df-6d8accfe-2817-4f12-b24a-5603a9045661');\n",
              "          const dataTable =\n",
              "            await google.colab.kernel.invokeFunction('convertToInteractive',\n",
              "                                                     [key], {});\n",
              "          if (!dataTable) return;\n",
              "\n",
              "          const docLinkHtml = 'Like what you see? Visit the ' +\n",
              "            '<a target=\"_blank\" href=https://colab.research.google.com/notebooks/data_table.ipynb>data table notebook</a>'\n",
              "            + ' to learn more about interactive tables.';\n",
              "          element.innerHTML = '';\n",
              "          dataTable['output_type'] = 'display_data';\n",
              "          await google.colab.output.renderOutput(dataTable, element);\n",
              "          const docLink = document.createElement('div');\n",
              "          docLink.innerHTML = docLinkHtml;\n",
              "          element.appendChild(docLink);\n",
              "        }\n",
              "      </script>\n",
              "    </div>\n",
              "  </div>\n",
              "  "
            ]
          },
          "metadata": {},
          "execution_count": 13
        }
      ]
    },
    {
      "cell_type": "markdown",
      "source": [
        " Visual analysis\n",
        "  Univariate analysis\n"
      ],
      "metadata": {
        "id": "JZSmgD6N1LR3"
      }
    },
    {
      "cell_type": "code",
      "source": [
        "sns.distplot(data['GRE Score'])"
      ],
      "metadata": {
        "colab": {
          "base_uri": "https://localhost:8080/",
          "height": 657
        },
        "id": "ed8me_jH1jKV",
        "outputId": "6b53483b-cb7f-46f5-81ef-d7853fc96e5e"
      },
      "execution_count": null,
      "outputs": [
        {
          "output_type": "stream",
          "name": "stderr",
          "text": [
            "<ipython-input-14-64e93544a305>:1: UserWarning: \n",
            "\n",
            "`distplot` is a deprecated function and will be removed in seaborn v0.14.0.\n",
            "\n",
            "Please adapt your code to use either `displot` (a figure-level function with\n",
            "similar flexibility) or `histplot` (an axes-level function for histograms).\n",
            "\n",
            "For a guide to updating your code to use the new functions, please see\n",
            "https://gist.github.com/mwaskom/de44147ed2974457ad6372750bbe5751\n",
            "\n",
            "  sns.distplot(data['GRE Score'])\n"
          ]
        },
        {
          "output_type": "execute_result",
          "data": {
            "text/plain": [
              "<Axes: xlabel='GRE Score', ylabel='Density'>"
            ]
          },
          "metadata": {},
          "execution_count": 14
        },
        {
          "output_type": "display_data",
          "data": {
            "text/plain": [
              "<Figure size 640x480 with 1 Axes>"
            ],
            "image/png": "[encoded data removed]"
          },
          "metadata": {}
        }
      ]
    },
    {
      "cell_type": "markdown",
      "source": [
        "Scatter Plot\n"
      ],
      "metadata": {
        "id": "PUkmL92N2szi"
      }
    },
    {
      "cell_type": "code",
      "source": [
        "sns.scatterplot(x='University Rating',y='CGPA',data=data,color='Red',s=100)"
      ],
      "metadata": {
        "colab": {
          "base_uri": "https://localhost:8080/",
          "height": 466
        },
        "id": "ITVTgjl923ru",
        "outputId": "037354dc-21b9-4f42-91ac-44dd912bba9f"
      },
      "execution_count": null,
      "outputs": [
        {
          "output_type": "execute_result",
          "data": {
            "text/plain": [
              "<Axes: xlabel='University Rating', ylabel='CGPA'>"
            ]
          },
          "metadata": {},
          "execution_count": 15
        },
        {
          "output_type": "display_data",
          "data": {
            "text/plain": [
              "<Figure size 640x480 with 1 Axes>"
            ],
            "image/png": "[encoded data removed]"
          },
          "metadata": {}
        }
      ]
    },
    {
      "cell_type": "code",
      "source": [
        "category = ['GRE Score','TOEFL Score','University Rating','SOP','LOR','CGPA','Research','Chance of Admit']\n",
        "color = ['yellowgreen','gold','lightskyblue','pink','red','purple','orange','gray']\n",
        "start = True\n",
        "for i in np.arange(4):\n",
        "    fig = plt.figure(figsize=(14,8))\n",
        "    plt.subplot2grid((4,2),(1,0))\n",
        "    data[category[2*i]].hist(color=color[2*i],bins=10)\n",
        "    plt.title(category[2*1])\n",
        "    plt.subplot2grid((4,2),(1,1))\n",
        "    data[category[2*1+1]].hist(color=color[2*1+1],bins=10)\n",
        "    plt.title(category[2*i+1])\n",
        "\n",
        "plt.subplots_adjust(hspace= 0.7, wspace = 0.2)\n",
        "plt.show()"
      ],
      "metadata": {
        "colab": {
          "base_uri": "https://localhost:8080/",
          "height": 1000
        },
        "id": "5A1IJytp4DpY",
        "outputId": "632697ff-0199-482e-c0db-c147152ba58a"
      },
      "execution_count": null,
      "outputs": [
        {
          "output_type": "error",
          "ename": "KeyError",
          "evalue": "ignored",
          "traceback": [
            "\u001b[0;31m---------------------------------------------------------------------------\u001b[0m",
            "\u001b[0;31mKeyError\u001b[0m                                  Traceback (most recent call last)",
            "\u001b[0;32m/usr/local/lib/python3.9/dist-packages/pandas/core/indexes/base.py\u001b[0m in \u001b[0;36mget_loc\u001b[0;34m(self, key, method, tolerance)\u001b[0m\n\u001b[1;32m   3801\u001b[0m             \u001b[0;32mtry\u001b[0m\u001b[0;34m:\u001b[0m\u001b[0;34m\u001b[0m\u001b[0;34m\u001b[0m\u001b[0m\n\u001b[0;32m-> 3802\u001b[0;31m                 \u001b[0;32mreturn\u001b[0m \u001b[0mself\u001b[0m\u001b[0;34m.\u001b[0m\u001b[0m_engine\u001b[0m\u001b[0;34m.\u001b[0m\u001b[0mget_loc\u001b[0m\u001b[0;34m(\u001b[0m\u001b[0mcasted_key\u001b[0m\u001b[0;34m)\u001b[0m\u001b[0;34m\u001b[0m\u001b[0;34m\u001b[0m\u001b[0m\n\u001b[0m\u001b[1;32m   3803\u001b[0m             \u001b[0;32mexcept\u001b[0m \u001b[0mKeyError\u001b[0m \u001b[0;32mas\u001b[0m \u001b[0merr\u001b[0m\u001b[0;34m:\u001b[0m\u001b[0;34m\u001b[0m\u001b[0;34m\u001b[0m\u001b[0m\n",
            "\u001b[0;32m/usr/local/lib/python3.9/dist-packages/pandas/_libs/index.pyx\u001b[0m in \u001b[0;36mpandas._libs.index.IndexEngine.get_loc\u001b[0;34m()\u001b[0m\n",
            "\u001b[0;32m/usr/local/lib/python3.9/dist-packages/pandas/_libs/index.pyx\u001b[0m in \u001b[0;36mpandas._libs.index.IndexEngine.get_loc\u001b[0;34m()\u001b[0m\n",
            "\u001b[0;32mpandas/_libs/hashtable_class_helper.pxi\u001b[0m in \u001b[0;36mpandas._libs.hashtable.PyObjectHashTable.get_item\u001b[0;34m()\u001b[0m\n",
            "\u001b[0;32mpandas/_libs/hashtable_class_helper.pxi\u001b[0m in \u001b[0;36mpandas._libs.hashtable.PyObjectHashTable.get_item\u001b[0;34m()\u001b[0m\n",
            "\u001b[0;31mKeyError\u001b[0m: 'LOR'",
            "\nThe above exception was the direct cause of the following exception:\n",
            "\u001b[0;31mKeyError\u001b[0m                                  Traceback (most recent call last)",
            "\u001b[0;32m<ipython-input-30-0a8b0709785d>\u001b[0m in \u001b[0;36m<cell line: 4>\u001b[0;34m()\u001b[0m\n\u001b[1;32m      5\u001b[0m     \u001b[0mfig\u001b[0m \u001b[0;34m=\u001b[0m \u001b[0mplt\u001b[0m\u001b[0;34m.\u001b[0m\u001b[0mfigure\u001b[0m\u001b[0;34m(\u001b[0m\u001b[0mfigsize\u001b[0m\u001b[0;34m=\u001b[0m\u001b[0;34m(\u001b[0m\u001b[0;36m14\u001b[0m\u001b[0;34m,\u001b[0m\u001b[0;36m8\u001b[0m\u001b[0;34m)\u001b[0m\u001b[0;34m)\u001b[0m\u001b[0;34m\u001b[0m\u001b[0;34m\u001b[0m\u001b[0m\n\u001b[1;32m      6\u001b[0m     \u001b[0mplt\u001b[0m\u001b[0;34m.\u001b[0m\u001b[0msubplot2grid\u001b[0m\u001b[0;34m(\u001b[0m\u001b[0;34m(\u001b[0m\u001b[0;36m4\u001b[0m\u001b[0;34m,\u001b[0m\u001b[0;36m2\u001b[0m\u001b[0;34m)\u001b[0m\u001b[0;34m,\u001b[0m\u001b[0;34m(\u001b[0m\u001b[0;36m1\u001b[0m\u001b[0;34m,\u001b[0m\u001b[0;36m0\u001b[0m\u001b[0;34m)\u001b[0m\u001b[0;34m)\u001b[0m\u001b[0;34m\u001b[0m\u001b[0;34m\u001b[0m\u001b[0m\n\u001b[0;32m----> 7\u001b[0;31m     \u001b[0mdata\u001b[0m\u001b[0;34m[\u001b[0m\u001b[0mcategory\u001b[0m\u001b[0;34m[\u001b[0m\u001b[0;36m2\u001b[0m\u001b[0;34m*\u001b[0m\u001b[0mi\u001b[0m\u001b[0;34m]\u001b[0m\u001b[0;34m]\u001b[0m\u001b[0;34m.\u001b[0m\u001b[0mhist\u001b[0m\u001b[0;34m(\u001b[0m\u001b[0mcolor\u001b[0m\u001b[0;34m=\u001b[0m\u001b[0mcolor\u001b[0m\u001b[0;34m[\u001b[0m\u001b[0;36m2\u001b[0m\u001b[0;34m*\u001b[0m\u001b[0mi\u001b[0m\u001b[0;34m]\u001b[0m\u001b[0;34m,\u001b[0m\u001b[0mbins\u001b[0m\u001b[0;34m=\u001b[0m\u001b[0;36m10\u001b[0m\u001b[0;34m)\u001b[0m\u001b[0;34m\u001b[0m\u001b[0;34m\u001b[0m\u001b[0m\n\u001b[0m\u001b[1;32m      8\u001b[0m     \u001b[0mplt\u001b[0m\u001b[0;34m.\u001b[0m\u001b[0mtitle\u001b[0m\u001b[0;34m(\u001b[0m\u001b[0mcategory\u001b[0m\u001b[0;34m[\u001b[0m\u001b[0;36m2\u001b[0m\u001b[0;34m*\u001b[0m\u001b[0;36m1\u001b[0m\u001b[0;34m]\u001b[0m\u001b[0;34m)\u001b[0m\u001b[0;34m\u001b[0m\u001b[0;34m\u001b[0m\u001b[0m\n\u001b[1;32m      9\u001b[0m     \u001b[0mplt\u001b[0m\u001b[0;34m.\u001b[0m\u001b[0msubplot2grid\u001b[0m\u001b[0;34m(\u001b[0m\u001b[0;34m(\u001b[0m\u001b[0;36m4\u001b[0m\u001b[0;34m,\u001b[0m\u001b[0;36m2\u001b[0m\u001b[0;34m)\u001b[0m\u001b[0;34m,\u001b[0m\u001b[0;34m(\u001b[0m\u001b[0;36m1\u001b[0m\u001b[0;34m,\u001b[0m\u001b[0;36m1\u001b[0m\u001b[0;34m)\u001b[0m\u001b[0;34m)\u001b[0m\u001b[0;34m\u001b[0m\u001b[0;34m\u001b[0m\u001b[0m\n",
            "\u001b[0;32m/usr/local/lib/python3.9/dist-packages/pandas/core/frame.py\u001b[0m in \u001b[0;36m__getitem__\u001b[0;34m(self, key)\u001b[0m\n\u001b[1;32m   3805\u001b[0m             \u001b[0;32mif\u001b[0m \u001b[0mself\u001b[0m\u001b[0;34m.\u001b[0m\u001b[0mcolumns\u001b[0m\u001b[0;34m.\u001b[0m\u001b[0mnlevels\u001b[0m \u001b[0;34m>\u001b[0m \u001b[0;36m1\u001b[0m\u001b[0;34m:\u001b[0m\u001b[0;34m\u001b[0m\u001b[0;34m\u001b[0m\u001b[0m\n\u001b[1;32m   3806\u001b[0m                 \u001b[0;32mreturn\u001b[0m \u001b[0mself\u001b[0m\u001b[0;34m.\u001b[0m\u001b[0m_getitem_multilevel\u001b[0m\u001b[0;34m(\u001b[0m\u001b[0mkey\u001b[0m\u001b[0;34m)\u001b[0m\u001b[0;34m\u001b[0m\u001b[0;34m\u001b[0m\u001b[0m\n\u001b[0;32m-> 3807\u001b[0;31m             \u001b[0mindexer\u001b[0m \u001b[0;34m=\u001b[0m \u001b[0mself\u001b[0m\u001b[0;34m.\u001b[0m\u001b[0mcolumns\u001b[0m\u001b[0;34m.\u001b[0m\u001b[0mget_loc\u001b[0m\u001b[0;34m(\u001b[0m\u001b[0mkey\u001b[0m\u001b[0;34m)\u001b[0m\u001b[0;34m\u001b[0m\u001b[0;34m\u001b[0m\u001b[0m\n\u001b[0m\u001b[1;32m   3808\u001b[0m             \u001b[0;32mif\u001b[0m \u001b[0mis_integer\u001b[0m\u001b[0;34m(\u001b[0m\u001b[0mindexer\u001b[0m\u001b[0;34m)\u001b[0m\u001b[0;34m:\u001b[0m\u001b[0;34m\u001b[0m\u001b[0;34m\u001b[0m\u001b[0m\n\u001b[1;32m   3809\u001b[0m                 \u001b[0mindexer\u001b[0m \u001b[0;34m=\u001b[0m \u001b[0;34m[\u001b[0m\u001b[0mindexer\u001b[0m\u001b[0;34m]\u001b[0m\u001b[0;34m\u001b[0m\u001b[0;34m\u001b[0m\u001b[0m\n",
            "\u001b[0;32m/usr/local/lib/python3.9/dist-packages/pandas/core/indexes/base.py\u001b[0m in \u001b[0;36mget_loc\u001b[0;34m(self, key, method, tolerance)\u001b[0m\n\u001b[1;32m   3802\u001b[0m                 \u001b[0;32mreturn\u001b[0m \u001b[0mself\u001b[0m\u001b[0;34m.\u001b[0m\u001b[0m_engine\u001b[0m\u001b[0;34m.\u001b[0m\u001b[0mget_loc\u001b[0m\u001b[0;34m(\u001b[0m\u001b[0mcasted_key\u001b[0m\u001b[0;34m)\u001b[0m\u001b[0;34m\u001b[0m\u001b[0;34m\u001b[0m\u001b[0m\n\u001b[1;32m   3803\u001b[0m             \u001b[0;32mexcept\u001b[0m \u001b[0mKeyError\u001b[0m \u001b[0;32mas\u001b[0m \u001b[0merr\u001b[0m\u001b[0;34m:\u001b[0m\u001b[0;34m\u001b[0m\u001b[0;34m\u001b[0m\u001b[0m\n\u001b[0;32m-> 3804\u001b[0;31m                 \u001b[0;32mraise\u001b[0m \u001b[0mKeyError\u001b[0m\u001b[0;34m(\u001b[0m\u001b[0mkey\u001b[0m\u001b[0;34m)\u001b[0m \u001b[0;32mfrom\u001b[0m \u001b[0merr\u001b[0m\u001b[0;34m\u001b[0m\u001b[0;34m\u001b[0m\u001b[0m\n\u001b[0m\u001b[1;32m   3805\u001b[0m             \u001b[0;32mexcept\u001b[0m \u001b[0mTypeError\u001b[0m\u001b[0;34m:\u001b[0m\u001b[0;34m\u001b[0m\u001b[0;34m\u001b[0m\u001b[0m\n\u001b[1;32m   3806\u001b[0m                 \u001b[0;31m# If we have a listlike key, _check_indexing_error will raise\u001b[0m\u001b[0;34m\u001b[0m\u001b[0;34m\u001b[0m\u001b[0m\n",
            "\u001b[0;31mKeyError\u001b[0m: 'LOR'"
          ]
        },
        {
          "output_type": "display_data",
          "data": {
            "text/plain": [
              "<Figure size 1400x800 with 2 Axes>"
            ],
            "image/png": "[encoded data removed]"
          },
          "metadata": {}
        },
        {
          "output_type": "display_data",
          "data": {
            "text/plain": [
              "<Figure size 1400x800 with 2 Axes>"
            ],
            "image/png": "[encoded data removed]"
          },
          "metadata": {}
        },
        {
          "output_type": "display_data",
          "data": {
            "text/plain": [
              "<Figure size 1400x800 with 1 Axes>"
            ],
            "image/png": "[encoded data removed]"
          },
          "metadata": {}
        }
      ]
    },
    {
      "cell_type": "markdown",
      "source": [
        "## scaling the data"
      ],
      "metadata": {
        "id": "DwAuCbrV9Pus"
      }
    },
    {
      "cell_type": "code",
      "source": [
        "from sklearn.preprocessing import MinMaxScaler\n",
        "sc = MinMaxScaler()\n",
        "x=sc.fit_transform(x)\n",
        "x"
      ],
      "metadata": {
        "colab": {
          "base_uri": "https://localhost:8080/",
          "height": 200
        },
        "id": "7Y2kHXeP9B-c",
        "outputId": "1e32c5fb-a497-4e60-9470-b934fe5b92fe"
      },
      "execution_count": null,
      "outputs": [
        {
          "output_type": "error",
          "ename": "NameError",
          "evalue": "ignored",
          "traceback": [
            "\u001b[0;31m---------------------------------------------------------------------------\u001b[0m",
            "\u001b[0;31mNameError\u001b[0m                                 Traceback (most recent call last)",
            "\u001b[0;32m<ipython-input-40-d6da0a7ad3ee>\u001b[0m in \u001b[0;36m<cell line: 3>\u001b[0;34m()\u001b[0m\n\u001b[1;32m      1\u001b[0m \u001b[0;32mfrom\u001b[0m \u001b[0msklearn\u001b[0m\u001b[0;34m.\u001b[0m\u001b[0mpreprocessing\u001b[0m \u001b[0;32mimport\u001b[0m \u001b[0mMinMaxScaler\u001b[0m\u001b[0;34m\u001b[0m\u001b[0;34m\u001b[0m\u001b[0m\n\u001b[1;32m      2\u001b[0m \u001b[0msc\u001b[0m \u001b[0;34m=\u001b[0m \u001b[0mMinMaxScaler\u001b[0m\u001b[0;34m(\u001b[0m\u001b[0;34m)\u001b[0m\u001b[0;34m\u001b[0m\u001b[0;34m\u001b[0m\u001b[0m\n\u001b[0;32m----> 3\u001b[0;31m \u001b[0mx\u001b[0m\u001b[0;34m=\u001b[0m\u001b[0msc\u001b[0m\u001b[0;34m.\u001b[0m\u001b[0mfit_transform\u001b[0m\u001b[0;34m(\u001b[0m\u001b[0mx\u001b[0m\u001b[0;34m)\u001b[0m\u001b[0;34m\u001b[0m\u001b[0;34m\u001b[0m\u001b[0m\n\u001b[0m",
            "\u001b[0;31mNameError\u001b[0m: name 'x' is not defined"
          ]
        }
      ]
    },
    {
      "cell_type": "markdown",
      "source": [
        "Splitting data into x and y\n"
      ],
      "metadata": {
        "id": "f9qgy-93_eX2"
      }
    },
    {
      "cell_type": "code",
      "source": [
        "x=data.iloc[:,0:7].values"
      ],
      "metadata": {
        "id": "6viThlMw_l2m"
      },
      "execution_count": null,
      "outputs": []
    },
    {
      "cell_type": "code",
      "source": [
        "y=data.iloc[:,7:].values\n",
        "y"
      ],
      "metadata": {
        "colab": {
          "base_uri": "https://localhost:8080/"
        },
        "id": "pqgtRdX7_4Vm",
        "outputId": "a9249844-5894-4258-fe10-bac5a55d49ab"
      },
      "execution_count": null,
      "outputs": [
        {
          "output_type": "execute_result",
          "data": {
            "text/plain": [
              "array([[1.  , 0.92],\n",
              "       [1.  , 0.76],\n",
              "       [1.  , 0.72],\n",
              "       [1.  , 0.8 ],\n",
              "       [0.  , 0.65],\n",
              "       [1.  , 0.9 ],\n",
              "       [1.  , 0.75],\n",
              "       [0.  , 0.68],\n",
              "       [0.  , 0.5 ],\n",
              "       [0.  , 0.45],\n",
              "       [1.  , 0.52],\n",
              "       [1.  , 0.84],\n",
              "       [1.  , 0.78],\n",
              "       [1.  , 0.62],\n",
              "       [1.  , 0.61],\n",
              "       [0.  , 0.54],\n",
              "       [0.  , 0.66],\n",
              "       [1.  , 0.65],\n",
              "       [0.  , 0.63],\n",
              "       [0.  , 0.62],\n",
              "       [1.  , 0.64],\n",
              "       [0.  , 0.7 ],\n",
              "       [1.  , 0.94],\n",
              "       [1.  , 0.95],\n",
              "       [1.  , 0.97],\n",
              "       [1.  , 0.94],\n",
              "       [0.  , 0.76],\n",
              "       [1.  , 0.44],\n",
              "       [0.  , 0.46],\n",
              "       [0.  , 0.54],\n",
              "       [1.  , 0.65],\n",
              "       [1.  , 0.74],\n",
              "       [1.  , 0.91],\n",
              "       [1.  , 0.9 ],\n",
              "       [1.  , 0.94],\n",
              "       [1.  , 0.88],\n",
              "       [0.  , 0.64],\n",
              "       [0.  , 0.58],\n",
              "       [0.  , 0.52],\n",
              "       [0.  , 0.48],\n",
              "       [1.  , 0.46],\n",
              "       [1.  , 0.49],\n",
              "       [1.  , 0.53],\n",
              "       [0.  , 0.87],\n",
              "       [1.  , 0.91],\n",
              "       [1.  , 0.88],\n",
              "       [1.  , 0.86],\n",
              "       [0.  , 0.89],\n",
              "       [1.  , 0.82],\n",
              "       [1.  , 0.78],\n",
              "       [1.  , 0.76],\n",
              "       [1.  , 0.56],\n",
              "       [1.  , 0.78],\n",
              "       [1.  , 0.72],\n",
              "       [0.  , 0.7 ],\n",
              "       [0.  , 0.64],\n",
              "       [0.  , 0.64],\n",
              "       [0.  , 0.46],\n",
              "       [1.  , 0.36],\n",
              "       [0.  , 0.42],\n",
              "       [0.  , 0.48],\n",
              "       [0.  , 0.47],\n",
              "       [1.  , 0.54],\n",
              "       [1.  , 0.56],\n",
              "       [0.  , 0.52],\n",
              "       [0.  , 0.55],\n",
              "       [0.  , 0.61],\n",
              "       [1.  , 0.57],\n",
              "       [1.  , 0.68],\n",
              "       [1.  , 0.78],\n",
              "       [1.  , 0.94],\n",
              "       [1.  , 0.96],\n",
              "       [1.  , 0.93],\n",
              "       [1.  , 0.84],\n",
              "       [0.  , 0.74],\n",
              "       [1.  , 0.72],\n",
              "       [1.  , 0.74],\n",
              "       [0.  , 0.64],\n",
              "       [1.  , 0.44],\n",
              "       [0.  , 0.46],\n",
              "       [1.  , 0.5 ],\n",
              "       [1.  , 0.96],\n",
              "       [1.  , 0.92],\n",
              "       [1.  , 0.92],\n",
              "       [1.  , 0.94],\n",
              "       [0.  , 0.76],\n",
              "       [0.  , 0.72],\n",
              "       [0.  , 0.66],\n",
              "       [0.  , 0.64],\n",
              "       [1.  , 0.74],\n",
              "       [1.  , 0.64],\n",
              "       [0.  , 0.38],\n",
              "       [0.  , 0.34],\n",
              "       [1.  , 0.44],\n",
              "       [0.  , 0.36],\n",
              "       [0.  , 0.42],\n",
              "       [0.  , 0.48],\n",
              "       [1.  , 0.86],\n",
              "       [1.  , 0.9 ],\n",
              "       [1.  , 0.79],\n",
              "       [1.  , 0.71],\n",
              "       [0.  , 0.64],\n",
              "       [0.  , 0.62],\n",
              "       [0.  , 0.57],\n",
              "       [1.  , 0.74],\n",
              "       [1.  , 0.69],\n",
              "       [1.  , 0.87],\n",
              "       [1.  , 0.91],\n",
              "       [1.  , 0.93],\n",
              "       [0.  , 0.68],\n",
              "       [0.  , 0.61],\n",
              "       [1.  , 0.69],\n",
              "       [1.  , 0.62],\n",
              "       [0.  , 0.72],\n",
              "       [1.  , 0.59],\n",
              "       [1.  , 0.66],\n",
              "       [0.  , 0.56],\n",
              "       [0.  , 0.45],\n",
              "       [0.  , 0.47],\n",
              "       [1.  , 0.71],\n",
              "       [1.  , 0.94],\n",
              "       [1.  , 0.94],\n",
              "       [0.  , 0.57],\n",
              "       [0.  , 0.61],\n",
              "       [0.  , 0.57],\n",
              "       [1.  , 0.64],\n",
              "       [1.  , 0.85],\n",
              "       [1.  , 0.78],\n",
              "       [1.  , 0.84],\n",
              "       [1.  , 0.92],\n",
              "       [1.  , 0.96],\n",
              "       [0.  , 0.77],\n",
              "       [0.  , 0.71],\n",
              "       [0.  , 0.79],\n",
              "       [1.  , 0.89],\n",
              "       [1.  , 0.82],\n",
              "       [0.  , 0.76],\n",
              "       [1.  , 0.71],\n",
              "       [1.  , 0.8 ],\n",
              "       [0.  , 0.78],\n",
              "       [1.  , 0.84],\n",
              "       [1.  , 0.9 ],\n",
              "       [1.  , 0.92],\n",
              "       [1.  , 0.97],\n",
              "       [1.  , 0.8 ],\n",
              "       [1.  , 0.81],\n",
              "       [0.  , 0.75],\n",
              "       [1.  , 0.83],\n",
              "       [1.  , 0.96],\n",
              "       [1.  , 0.79],\n",
              "       [1.  , 0.93],\n",
              "       [1.  , 0.94],\n",
              "       [1.  , 0.86],\n",
              "       [0.  , 0.79],\n",
              "       [0.  , 0.8 ],\n",
              "       [0.  , 0.77],\n",
              "       [0.  , 0.7 ],\n",
              "       [0.  , 0.65],\n",
              "       [0.  , 0.61],\n",
              "       [0.  , 0.52],\n",
              "       [0.  , 0.57],\n",
              "       [0.  , 0.53],\n",
              "       [0.  , 0.67],\n",
              "       [0.  , 0.68],\n",
              "       [1.  , 0.81],\n",
              "       [0.  , 0.78],\n",
              "       [0.  , 0.65],\n",
              "       [0.  , 0.64],\n",
              "       [1.  , 0.64],\n",
              "       [0.  , 0.65],\n",
              "       [1.  , 0.68],\n",
              "       [1.  , 0.89],\n",
              "       [1.  , 0.86],\n",
              "       [1.  , 0.89],\n",
              "       [1.  , 0.87],\n",
              "       [1.  , 0.85],\n",
              "       [1.  , 0.9 ],\n",
              "       [0.  , 0.82],\n",
              "       [0.  , 0.72],\n",
              "       [0.  , 0.73],\n",
              "       [0.  , 0.71],\n",
              "       [0.  , 0.71],\n",
              "       [0.  , 0.68],\n",
              "       [0.  , 0.75],\n",
              "       [0.  , 0.72],\n",
              "       [1.  , 0.89],\n",
              "       [1.  , 0.84],\n",
              "       [1.  , 0.93],\n",
              "       [1.  , 0.93],\n",
              "       [1.  , 0.88],\n",
              "       [1.  , 0.9 ],\n",
              "       [1.  , 0.87],\n",
              "       [1.  , 0.86],\n",
              "       [1.  , 0.94],\n",
              "       [0.  , 0.77],\n",
              "       [1.  , 0.78],\n",
              "       [0.  , 0.73],\n",
              "       [0.  , 0.73],\n",
              "       [0.  , 0.7 ],\n",
              "       [0.  , 0.72],\n",
              "       [1.  , 0.73],\n",
              "       [1.  , 0.72],\n",
              "       [1.  , 0.97],\n",
              "       [1.  , 0.97],\n",
              "       [0.  , 0.69],\n",
              "       [0.  , 0.57],\n",
              "       [0.  , 0.63],\n",
              "       [1.  , 0.66],\n",
              "       [0.  , 0.64],\n",
              "       [1.  , 0.68],\n",
              "       [1.  , 0.79],\n",
              "       [1.  , 0.82],\n",
              "       [1.  , 0.95],\n",
              "       [1.  , 0.96],\n",
              "       [1.  , 0.94],\n",
              "       [1.  , 0.93],\n",
              "       [1.  , 0.91],\n",
              "       [1.  , 0.85],\n",
              "       [1.  , 0.84],\n",
              "       [0.  , 0.74],\n",
              "       [0.  , 0.76],\n",
              "       [0.  , 0.75],\n",
              "       [0.  , 0.76],\n",
              "       [0.  , 0.71],\n",
              "       [0.  , 0.67],\n",
              "       [0.  , 0.61],\n",
              "       [0.  , 0.63],\n",
              "       [0.  , 0.64],\n",
              "       [0.  , 0.71],\n",
              "       [1.  , 0.82],\n",
              "       [0.  , 0.73],\n",
              "       [1.  , 0.74],\n",
              "       [0.  , 0.69],\n",
              "       [0.  , 0.64],\n",
              "       [1.  , 0.91],\n",
              "       [1.  , 0.88],\n",
              "       [1.  , 0.85],\n",
              "       [1.  , 0.86],\n",
              "       [0.  , 0.7 ],\n",
              "       [0.  , 0.59],\n",
              "       [0.  , 0.6 ],\n",
              "       [0.  , 0.65],\n",
              "       [1.  , 0.7 ],\n",
              "       [1.  , 0.76],\n",
              "       [0.  , 0.63],\n",
              "       [1.  , 0.81],\n",
              "       [0.  , 0.72],\n",
              "       [0.  , 0.71],\n",
              "       [1.  , 0.8 ],\n",
              "       [1.  , 0.77],\n",
              "       [1.  , 0.74],\n",
              "       [0.  , 0.7 ],\n",
              "       [1.  , 0.71],\n",
              "       [1.  , 0.93],\n",
              "       [0.  , 0.85],\n",
              "       [0.  , 0.79],\n",
              "       [0.  , 0.76],\n",
              "       [1.  , 0.78],\n",
              "       [1.  , 0.77],\n",
              "       [1.  , 0.9 ],\n",
              "       [1.  , 0.87],\n",
              "       [0.  , 0.71],\n",
              "       [1.  , 0.7 ],\n",
              "       [1.  , 0.7 ],\n",
              "       [1.  , 0.75],\n",
              "       [0.  , 0.71],\n",
              "       [0.  , 0.72],\n",
              "       [1.  , 0.73],\n",
              "       [0.  , 0.83],\n",
              "       [0.  , 0.77],\n",
              "       [1.  , 0.72],\n",
              "       [0.  , 0.54],\n",
              "       [0.  , 0.49],\n",
              "       [1.  , 0.52],\n",
              "       [0.  , 0.58],\n",
              "       [1.  , 0.78],\n",
              "       [1.  , 0.89],\n",
              "       [0.  , 0.7 ],\n",
              "       [0.  , 0.66],\n",
              "       [0.  , 0.67],\n",
              "       [1.  , 0.68],\n",
              "       [1.  , 0.8 ],\n",
              "       [1.  , 0.81],\n",
              "       [1.  , 0.8 ],\n",
              "       [1.  , 0.94],\n",
              "       [1.  , 0.93],\n",
              "       [1.  , 0.92],\n",
              "       [1.  , 0.89],\n",
              "       [0.  , 0.82],\n",
              "       [0.  , 0.79],\n",
              "       [0.  , 0.58],\n",
              "       [0.  , 0.56],\n",
              "       [0.  , 0.56],\n",
              "       [1.  , 0.64],\n",
              "       [1.  , 0.61],\n",
              "       [0.  , 0.68],\n",
              "       [0.  , 0.76],\n",
              "       [0.  , 0.86],\n",
              "       [1.  , 0.9 ],\n",
              "       [0.  , 0.71],\n",
              "       [0.  , 0.62],\n",
              "       [0.  , 0.66],\n",
              "       [1.  , 0.65],\n",
              "       [1.  , 0.73],\n",
              "       [0.  , 0.62],\n",
              "       [1.  , 0.74],\n",
              "       [1.  , 0.79],\n",
              "       [1.  , 0.8 ],\n",
              "       [0.  , 0.69],\n",
              "       [0.  , 0.7 ],\n",
              "       [1.  , 0.76],\n",
              "       [1.  , 0.84],\n",
              "       [1.  , 0.78],\n",
              "       [0.  , 0.67],\n",
              "       [0.  , 0.66],\n",
              "       [0.  , 0.65],\n",
              "       [0.  , 0.54],\n",
              "       [0.  , 0.58],\n",
              "       [1.  , 0.79],\n",
              "       [1.  , 0.8 ],\n",
              "       [1.  , 0.75],\n",
              "       [1.  , 0.73],\n",
              "       [0.  , 0.72],\n",
              "       [0.  , 0.62],\n",
              "       [0.  , 0.67],\n",
              "       [1.  , 0.81],\n",
              "       [0.  , 0.63],\n",
              "       [0.  , 0.69],\n",
              "       [1.  , 0.8 ],\n",
              "       [0.  , 0.43],\n",
              "       [1.  , 0.8 ],\n",
              "       [1.  , 0.73],\n",
              "       [1.  , 0.75],\n",
              "       [1.  , 0.71],\n",
              "       [1.  , 0.73],\n",
              "       [1.  , 0.83],\n",
              "       [0.  , 0.72],\n",
              "       [1.  , 0.94],\n",
              "       [1.  , 0.81],\n",
              "       [1.  , 0.81],\n",
              "       [1.  , 0.75],\n",
              "       [1.  , 0.79],\n",
              "       [0.  , 0.58],\n",
              "       [0.  , 0.59],\n",
              "       [0.  , 0.47],\n",
              "       [0.  , 0.49],\n",
              "       [0.  , 0.47],\n",
              "       [0.  , 0.42],\n",
              "       [0.  , 0.57],\n",
              "       [0.  , 0.62],\n",
              "       [1.  , 0.74],\n",
              "       [1.  , 0.73],\n",
              "       [1.  , 0.64],\n",
              "       [0.  , 0.63],\n",
              "       [0.  , 0.59],\n",
              "       [0.  , 0.73],\n",
              "       [1.  , 0.79],\n",
              "       [1.  , 0.68],\n",
              "       [0.  , 0.7 ],\n",
              "       [0.  , 0.81],\n",
              "       [1.  , 0.85],\n",
              "       [1.  , 0.93],\n",
              "       [1.  , 0.91],\n",
              "       [0.  , 0.69],\n",
              "       [1.  , 0.77],\n",
              "       [1.  , 0.86],\n",
              "       [1.  , 0.74],\n",
              "       [0.  , 0.57],\n",
              "       [0.  , 0.51],\n",
              "       [1.  , 0.67],\n",
              "       [0.  , 0.72],\n",
              "       [1.  , 0.89],\n",
              "       [1.  , 0.95],\n",
              "       [1.  , 0.79],\n",
              "       [0.  , 0.39],\n",
              "       [0.  , 0.38],\n",
              "       [0.  , 0.34],\n",
              "       [0.  , 0.47],\n",
              "       [0.  , 0.56],\n",
              "       [1.  , 0.71],\n",
              "       [1.  , 0.78],\n",
              "       [1.  , 0.73],\n",
              "       [1.  , 0.82],\n",
              "       [0.  , 0.62],\n",
              "       [1.  , 0.96],\n",
              "       [1.  , 0.96],\n",
              "       [0.  , 0.46],\n",
              "       [0.  , 0.53],\n",
              "       [0.  , 0.49],\n",
              "       [1.  , 0.76],\n",
              "       [0.  , 0.64],\n",
              "       [0.  , 0.71],\n",
              "       [1.  , 0.84],\n",
              "       [0.  , 0.77],\n",
              "       [1.  , 0.89],\n",
              "       [1.  , 0.82],\n",
              "       [1.  , 0.84],\n",
              "       [1.  , 0.91],\n",
              "       [0.  , 0.67],\n",
              "       [1.  , 0.95]])"
            ]
          },
          "metadata": {},
          "execution_count": 42
        }
      ]
    },
    {
      "cell_type": "code",
      "source": [
        "from sklearn.model_selection import train_test_split\n",
        "x_train, x_test, y_train, y_test = train_test_split(x,y, test_size=0.30,random_state=101)"
      ],
      "metadata": {
        "id": "WDDgramrALMR"
      },
      "execution_count": null,
      "outputs": []
    },
    {
      "cell_type": "code",
      "source": [
        "y_train=(y_train>0.5)\n",
        "y_train"
      ],
      "metadata": {
        "colab": {
          "base_uri": "https://localhost:8080/"
        },
        "id": "I8_4c5tJBAmG",
        "outputId": "b0f6ef73-be4a-4ca8-f446-31421060e9a2"
      },
      "execution_count": null,
      "outputs": [
        {
          "output_type": "execute_result",
          "data": {
            "text/plain": [
              "array([[ True,  True],\n",
              "       [False,  True],\n",
              "       [ True,  True],\n",
              "       [ True,  True],\n",
              "       [ True, False],\n",
              "       [ True,  True],\n",
              "       [ True,  True],\n",
              "       [ True,  True],\n",
              "       [False,  True],\n",
              "       [ True,  True],\n",
              "       [ True,  True],\n",
              "       [False,  True],\n",
              "       [ True,  True],\n",
              "       [ True,  True],\n",
              "       [False,  True],\n",
              "       [False, False],\n",
              "       [ True, False],\n",
              "       [False,  True],\n",
              "       [ True,  True],\n",
              "       [False,  True],\n",
              "       [False, False],\n",
              "       [False,  True],\n",
              "       [False,  True],\n",
              "       [ True,  True],\n",
              "       [ True,  True],\n",
              "       [ True,  True],\n",
              "       [ True,  True],\n",
              "       [ True,  True],\n",
              "       [False,  True],\n",
              "       [False,  True],\n",
              "       [ True,  True],\n",
              "       [False,  True],\n",
              "       [False,  True],\n",
              "       [False,  True],\n",
              "       [False,  True],\n",
              "       [ True,  True],\n",
              "       [ True,  True],\n",
              "       [False,  True],\n",
              "       [ True,  True],\n",
              "       [False,  True],\n",
              "       [False,  True],\n",
              "       [ True,  True],\n",
              "       [ True,  True],\n",
              "       [False,  True],\n",
              "       [ True,  True],\n",
              "       [ True,  True],\n",
              "       [False,  True],\n",
              "       [ True,  True],\n",
              "       [ True,  True],\n",
              "       [False,  True],\n",
              "       [ True,  True],\n",
              "       [ True,  True],\n",
              "       [False,  True],\n",
              "       [ True,  True],\n",
              "       [False,  True],\n",
              "       [ True,  True],\n",
              "       [False, False],\n",
              "       [False,  True],\n",
              "       [ True,  True],\n",
              "       [False,  True],\n",
              "       [ True,  True],\n",
              "       [ True,  True],\n",
              "       [ True,  True],\n",
              "       [False,  True],\n",
              "       [False,  True],\n",
              "       [False,  True],\n",
              "       [ True,  True],\n",
              "       [False,  True],\n",
              "       [False,  True],\n",
              "       [ True,  True],\n",
              "       [ True,  True],\n",
              "       [False, False],\n",
              "       [ True,  True],\n",
              "       [False,  True],\n",
              "       [ True,  True],\n",
              "       [ True,  True],\n",
              "       [False,  True],\n",
              "       [ True,  True],\n",
              "       [ True,  True],\n",
              "       [ True,  True],\n",
              "       [False,  True],\n",
              "       [ True,  True],\n",
              "       [False, False],\n",
              "       [False,  True],\n",
              "       [ True,  True],\n",
              "       [ True,  True],\n",
              "       [False,  True],\n",
              "       [ True,  True],\n",
              "       [ True,  True],\n",
              "       [False,  True],\n",
              "       [False,  True],\n",
              "       [False,  True],\n",
              "       [False,  True],\n",
              "       [ True,  True],\n",
              "       [ True,  True],\n",
              "       [False,  True],\n",
              "       [False, False],\n",
              "       [False,  True],\n",
              "       [ True,  True],\n",
              "       [False,  True],\n",
              "       [False,  True],\n",
              "       [False,  True],\n",
              "       [False,  True],\n",
              "       [ True,  True],\n",
              "       [False, False],\n",
              "       [False,  True],\n",
              "       [False,  True],\n",
              "       [ True,  True],\n",
              "       [False,  True],\n",
              "       [False,  True],\n",
              "       [ True,  True],\n",
              "       [ True,  True],\n",
              "       [ True,  True],\n",
              "       [False,  True],\n",
              "       [ True,  True],\n",
              "       [ True,  True],\n",
              "       [ True,  True],\n",
              "       [ True,  True],\n",
              "       [ True,  True],\n",
              "       [ True,  True],\n",
              "       [ True,  True],\n",
              "       [ True, False],\n",
              "       [False, False],\n",
              "       [False,  True],\n",
              "       [ True,  True],\n",
              "       [ True,  True],\n",
              "       [ True, False],\n",
              "       [ True,  True],\n",
              "       [ True,  True],\n",
              "       [ True,  True],\n",
              "       [ True,  True],\n",
              "       [ True,  True],\n",
              "       [False,  True],\n",
              "       [False,  True],\n",
              "       [False,  True],\n",
              "       [False,  True],\n",
              "       [False,  True],\n",
              "       [ True,  True],\n",
              "       [ True,  True],\n",
              "       [False,  True],\n",
              "       [False,  True],\n",
              "       [False, False],\n",
              "       [ True,  True],\n",
              "       [ True,  True],\n",
              "       [ True,  True],\n",
              "       [ True,  True],\n",
              "       [False,  True],\n",
              "       [ True,  True],\n",
              "       [ True,  True],\n",
              "       [False,  True],\n",
              "       [False, False],\n",
              "       [False,  True],\n",
              "       [ True,  True],\n",
              "       [False, False],\n",
              "       [ True,  True],\n",
              "       [ True,  True],\n",
              "       [ True,  True],\n",
              "       [ True,  True],\n",
              "       [ True,  True],\n",
              "       [False,  True],\n",
              "       [ True,  True],\n",
              "       [False,  True],\n",
              "       [False,  True],\n",
              "       [False,  True],\n",
              "       [ True,  True],\n",
              "       [ True,  True],\n",
              "       [ True,  True],\n",
              "       [ True,  True],\n",
              "       [ True,  True],\n",
              "       [False,  True],\n",
              "       [ True,  True],\n",
              "       [False,  True],\n",
              "       [ True,  True],\n",
              "       [False,  True],\n",
              "       [ True,  True],\n",
              "       [ True,  True],\n",
              "       [ True, False],\n",
              "       [ True,  True],\n",
              "       [False,  True],\n",
              "       [False, False],\n",
              "       [False,  True],\n",
              "       [ True,  True],\n",
              "       [ True,  True],\n",
              "       [False,  True],\n",
              "       [ True,  True],\n",
              "       [ True,  True],\n",
              "       [False,  True],\n",
              "       [False,  True],\n",
              "       [ True,  True],\n",
              "       [False,  True],\n",
              "       [ True,  True],\n",
              "       [False,  True],\n",
              "       [False,  True],\n",
              "       [ True,  True],\n",
              "       [ True,  True],\n",
              "       [ True,  True],\n",
              "       [ True,  True],\n",
              "       [ True,  True],\n",
              "       [False,  True],\n",
              "       [False,  True],\n",
              "       [ True,  True],\n",
              "       [ True,  True],\n",
              "       [ True,  True],\n",
              "       [ True,  True],\n",
              "       [False, False],\n",
              "       [False,  True],\n",
              "       [False, False],\n",
              "       [ True,  True],\n",
              "       [ True, False],\n",
              "       [ True,  True],\n",
              "       [ True,  True],\n",
              "       [ True,  True],\n",
              "       [ True,  True],\n",
              "       [False,  True],\n",
              "       [ True,  True],\n",
              "       [ True,  True],\n",
              "       [ True,  True],\n",
              "       [ True,  True],\n",
              "       [ True,  True],\n",
              "       [ True,  True],\n",
              "       [ True,  True],\n",
              "       [ True,  True],\n",
              "       [ True,  True],\n",
              "       [ True,  True],\n",
              "       [ True,  True],\n",
              "       [ True,  True],\n",
              "       [ True,  True],\n",
              "       [ True,  True],\n",
              "       [ True,  True],\n",
              "       [False,  True],\n",
              "       [ True,  True],\n",
              "       [False,  True],\n",
              "       [ True,  True],\n",
              "       [False,  True],\n",
              "       [False, False],\n",
              "       [False,  True],\n",
              "       [ True,  True],\n",
              "       [False,  True],\n",
              "       [False,  True],\n",
              "       [ True,  True],\n",
              "       [ True,  True],\n",
              "       [ True,  True],\n",
              "       [ True,  True],\n",
              "       [ True,  True],\n",
              "       [ True,  True],\n",
              "       [False,  True],\n",
              "       [ True,  True],\n",
              "       [False,  True],\n",
              "       [ True,  True],\n",
              "       [False,  True],\n",
              "       [ True,  True],\n",
              "       [ True,  True],\n",
              "       [ True,  True],\n",
              "       [ True,  True],\n",
              "       [ True,  True],\n",
              "       [ True,  True],\n",
              "       [False, False],\n",
              "       [False,  True],\n",
              "       [ True,  True],\n",
              "       [False,  True],\n",
              "       [ True,  True],\n",
              "       [ True,  True],\n",
              "       [ True,  True],\n",
              "       [ True,  True],\n",
              "       [ True,  True],\n",
              "       [False,  True],\n",
              "       [ True,  True],\n",
              "       [False,  True],\n",
              "       [False,  True],\n",
              "       [ True,  True],\n",
              "       [ True,  True],\n",
              "       [False,  True],\n",
              "       [ True, False],\n",
              "       [ True,  True],\n",
              "       [False,  True],\n",
              "       [ True,  True],\n",
              "       [False,  True],\n",
              "       [ True,  True],\n",
              "       [ True,  True],\n",
              "       [ True,  True]])"
            ]
          },
          "metadata": {},
          "execution_count": 44
        }
      ]
    },
    {
      "cell_type": "code",
      "source": [
        "y_test=(y_test>0.5)"
      ],
      "metadata": {
        "id": "g9_oy3-yBNWd"
      },
      "execution_count": null,
      "outputs": []
    },
    {
      "cell_type": "markdown",
      "source": [
        " Model Building\n"
      ],
      "metadata": {
        "id": "Iu-EPefBBklf"
      }
    },
    {
      "cell_type": "code",
      "source": [
        "from sklearn.linear_model.logistic import LogisticRegression\n",
        "cls =LogisticRegression(random_state =0)\n",
        "lr=cls.fit(x_train,y_train)"
      ],
      "metadata": {
        "colab": {
          "base_uri": "https://localhost:8080/",
          "height": 339
        },
        "id": "p5aBIjlcBmwg",
        "outputId": "66a041cb-a832-4128-abe6-0bd8ed84e213"
      },
      "execution_count": null,
      "outputs": [
        {
          "output_type": "error",
          "ename": "ModuleNotFoundError",
          "evalue": "ignored",
          "traceback": [
            "\u001b[0;31m---------------------------------------------------------------------------\u001b[0m",
            "\u001b[0;31mModuleNotFoundError\u001b[0m                       Traceback (most recent call last)",
            "\u001b[0;32m<ipython-input-52-a76cc8b9ee88>\u001b[0m in \u001b[0;36m<cell line: 1>\u001b[0;34m()\u001b[0m\n\u001b[0;32m----> 1\u001b[0;31m \u001b[0;32mfrom\u001b[0m \u001b[0msklearn\u001b[0m\u001b[0;34m.\u001b[0m\u001b[0mlinear_model\u001b[0m\u001b[0;34m.\u001b[0m\u001b[0mlogistic\u001b[0m \u001b[0;32mimport\u001b[0m \u001b[0mLogisticRegression\u001b[0m\u001b[0;34m\u001b[0m\u001b[0;34m\u001b[0m\u001b[0m\n\u001b[0m\u001b[1;32m      2\u001b[0m \u001b[0mcls\u001b[0m \u001b[0;34m=\u001b[0m\u001b[0mLogisticRegression\u001b[0m\u001b[0;34m(\u001b[0m\u001b[0mrandom_state\u001b[0m \u001b[0;34m=\u001b[0m\u001b[0;36m0\u001b[0m\u001b[0;34m)\u001b[0m\u001b[0;34m\u001b[0m\u001b[0;34m\u001b[0m\u001b[0m\n\u001b[1;32m      3\u001b[0m \u001b[0mlr\u001b[0m\u001b[0;34m=\u001b[0m\u001b[0mcls\u001b[0m\u001b[0;34m.\u001b[0m\u001b[0mfit\u001b[0m\u001b[0;34m(\u001b[0m\u001b[0mx_train\u001b[0m\u001b[0;34m,\u001b[0m\u001b[0my_train\u001b[0m\u001b[0;34m)\u001b[0m\u001b[0;34m\u001b[0m\u001b[0;34m\u001b[0m\u001b[0m\n",
            "\u001b[0;31mModuleNotFoundError\u001b[0m: No module named 'sklearn.linear_model.logistic'",
            "",
            "\u001b[0;31m---------------------------------------------------------------------------\u001b[0;32m\nNOTE: If your import is failing due to a missing package, you can\nmanually install dependencies using either !pip or !apt.\n\nTo view examples of installing some common dependencies, click the\n\"Open Examples\" button below.\n\u001b[0;31m---------------------------------------------------------------------------\u001b[0m\n"
          ],
          "errorDetails": {
            "actions": [
              {
                "action": "open_url",
                "actionText": "Open Examples",
                "url": "/notebooks/snippets/importing_libraries.ipynb"
              }
            ]
          }
        }
      ]
    },
    {
      "cell_type": "code",
      "source": [
        "y_pred =lr.Predict(x_test)\n",
        "y_pred"
      ],
      "metadata": {
        "colab": {
          "base_uri": "https://localhost:8080/",
          "height": 183
        },
        "id": "KbfSx399Djtt",
        "outputId": "bdc13d6e-5547-42cb-e451-efca4229f224"
      },
      "execution_count": null,
      "outputs": [
        {
          "output_type": "error",
          "ename": "NameError",
          "evalue": "ignored",
          "traceback": [
            "\u001b[0;31m---------------------------------------------------------------------------\u001b[0m",
            "\u001b[0;31mNameError\u001b[0m                                 Traceback (most recent call last)",
            "\u001b[0;32m<ipython-input-54-59440e05c04a>\u001b[0m in \u001b[0;36m<cell line: 1>\u001b[0;34m()\u001b[0m\n\u001b[0;32m----> 1\u001b[0;31m \u001b[0my_pred\u001b[0m \u001b[0;34m=\u001b[0m\u001b[0mlr\u001b[0m\u001b[0;34m.\u001b[0m\u001b[0mPredict\u001b[0m\u001b[0;34m(\u001b[0m\u001b[0mx_test\u001b[0m\u001b[0;34m)\u001b[0m\u001b[0;34m\u001b[0m\u001b[0;34m\u001b[0m\u001b[0m\n\u001b[0m\u001b[1;32m      2\u001b[0m \u001b[0my_pred\u001b[0m\u001b[0;34m\u001b[0m\u001b[0;34m\u001b[0m\u001b[0m\n",
            "\u001b[0;31mNameError\u001b[0m: name 'lr' is not defined"
          ]
        }
      ]
    },
    {
      "cell_type": "markdown",
      "source": [
        "ANN Model"
      ],
      "metadata": {
        "id": "oMRYe5feELw6"
      }
    },
    {
      "cell_type": "code",
      "source": [
        "# Libraries to train Neural network import tensorflow as tf\n",
        "from tensorflow import keras\n",
        "from tensorflow.keras.layers import Dense, Activation, Dropout from tensorflow.keras.optimizers import Adam"
      ],
      "metadata": {
        "colab": {
          "base_uri": "https://localhost:8080/",
          "height": 130
        },
        "id": "vzL-5p6lELIR",
        "outputId": "954387ee-e2e6-4f6e-c7a5-d3da6f62618c"
      },
      "execution_count": null,
      "outputs": [
        {
          "output_type": "error",
          "ename": "SyntaxError",
          "evalue": "ignored",
          "traceback": [
            "\u001b[0;36m  File \u001b[0;32m\"<ipython-input-55-28b03c7f5ee7>\"\u001b[0;36m, line \u001b[0;32m3\u001b[0m\n\u001b[0;31m    from tensorflow.keras.layers import Dense, Activation, Dropout from tensorflow.keras.optimizers import Adam\u001b[0m\n\u001b[0m                                                                   ^\u001b[0m\n\u001b[0;31mSyntaxError\u001b[0m\u001b[0;31m:\u001b[0m invalid syntax\n"
          ]
        }
      ]
    },
    {
      "cell_type": "code",
      "source": [
        "Initialize the model\n",
        "model=keras.Sequential()\n",
        "\n",
        "#Add input Layer\n",
        "model.add(Dense(7, activation 'relu', input_dim=7))\n",
        "\n",
        "#Add hidden Layers\n",
        "model.add(Dense(7, activation='relu'))\n",
        "\n",
        "#Add output layer\n",
        "model.add(Dense(1,activation=\"linear\"))\n",
        "\n",
        "model.summary()\n"
      ],
      "metadata": {
        "colab": {
          "base_uri": "https://localhost:8080/",
          "height": 130
        },
        "id": "wcktNJMOFxcn",
        "outputId": "607de884-1d57-450d-e0ba-d2f533d239f9"
      },
      "execution_count": null,
      "outputs": [
        {
          "output_type": "error",
          "ename": "SyntaxError",
          "evalue": "ignored",
          "traceback": [
            "\u001b[0;36m  File \u001b[0;32m\"<ipython-input-56-32628b6816f2>\"\u001b[0;36m, line \u001b[0;32m1\u001b[0m\n\u001b[0;31m    Initialize the model\u001b[0m\n\u001b[0m               ^\u001b[0m\n\u001b[0;31mSyntaxError\u001b[0m\u001b[0;31m:\u001b[0m invalid syntax\n"
          ]
        }
      ]
    },
    {
      "cell_type": "code",
      "source": [
        "modal.summary()"
      ],
      "metadata": {
        "id": "7uigQhDSHtXL"
      },
      "execution_count": null,
      "outputs": []
    },
    {
      "cell_type": "code",
      "source": [
        "model.fit(x_train, y_train, batch_size = 28, epochs = 100)"
      ],
      "metadata": {
        "id": "54js762GH70m"
      },
      "execution_count": null,
      "outputs": []
    },
    {
      "cell_type": "code",
      "source": [
        "model.compile(loss=\"binary_crossentropy,optimizer= \"= ['accuracy'])\n"
      ],
      "metadata": {
        "id": "EUOFnx2lISeT"
      },
      "execution_count": null,
      "outputs": []
    },
    {
      "cell_type": "code",
      "source": [
        "model.fit(x_train, y_train, batch_size = 20, epochs = 100)"
      ],
      "metadata": {
        "id": "mf3GStWLbm_C"
      },
      "execution_count": null,
      "outputs": []
    },
    {
      "cell_type": "code",
      "source": [
        "from sklearn.metrics import accuracy score\n",
        "\n",
        "# Make predictions on the training data\n",
        "train_predictions model.predict(x_train)\n",
        "\n",
        "print(train_predictions)"
      ],
      "metadata": {
        "id": "T3-GzYwBbuCi"
      },
      "execution_count": null,
      "outputs": []
    },
    {
      "cell_type": "code",
      "source": [
        "# Get the training accuracy \n",
        "train_acc = model.evaluate(x_train, y_train, verbose=0)[1]\n",
        "\n",
        "print(train_acc)"
      ],
      "metadata": {
        "id": "SAlqPRXQcFFZ"
      },
      "execution_count": null,
      "outputs": []
    },
    {
      "cell_type": "code",
      "source": [
        "# Get the test accuracy\n",
        "test_acc model.evaluate(x_test, y_test, verbose=0)[1]\n",
        "\n",
        "print(test_acc)"
      ],
      "metadata": {
        "id": "OjvJ9qPEdEyu"
      },
      "execution_count": null,
      "outputs": []
    },
    {
      "cell_type": "code",
      "source": [
        "pred=model.predict(x_test)\n",
        "pred = (pred>0.5)\n",
        "pred"
      ],
      "metadata": {
        "colab": {
          "base_uri": "https://localhost:8080/",
          "height": 200
        },
        "id": "cB0ijGrmeM6W",
        "outputId": "034aec7a-f110-4b7b-9e09-241cce53236d"
      },
      "execution_count": null,
      "outputs": [
        {
          "output_type": "error",
          "ename": "NameError",
          "evalue": "ignored",
          "traceback": [
            "\u001b[0;31m---------------------------------------------------------------------------\u001b[0m",
            "\u001b[0;31mNameError\u001b[0m                                 Traceback (most recent call last)",
            "\u001b[0;32m<ipython-input-2-56af9f49dbac>\u001b[0m in \u001b[0;36m<cell line: 1>\u001b[0;34m()\u001b[0m\n\u001b[0;32m----> 1\u001b[0;31m \u001b[0mpred\u001b[0m\u001b[0;34m=\u001b[0m\u001b[0mmodel\u001b[0m\u001b[0;34m.\u001b[0m\u001b[0mpredict\u001b[0m\u001b[0;34m(\u001b[0m\u001b[0mx_test\u001b[0m\u001b[0;34m)\u001b[0m\u001b[0;34m\u001b[0m\u001b[0;34m\u001b[0m\u001b[0m\n\u001b[0m\u001b[1;32m      2\u001b[0m \u001b[0mpred\u001b[0m \u001b[0;34m=\u001b[0m \u001b[0;34m(\u001b[0m\u001b[0mpred\u001b[0m\u001b[0;34m>\u001b[0m\u001b[0;36m0.5\u001b[0m\u001b[0;34m)\u001b[0m\u001b[0;34m\u001b[0m\u001b[0;34m\u001b[0m\u001b[0m\n\u001b[1;32m      3\u001b[0m \u001b[0mpred\u001b[0m\u001b[0;34m\u001b[0m\u001b[0;34m\u001b[0m\u001b[0m\n",
            "\u001b[0;31mNameError\u001b[0m: name 'model' is not defined"
          ]
        }
      ]
    }
  ]
}